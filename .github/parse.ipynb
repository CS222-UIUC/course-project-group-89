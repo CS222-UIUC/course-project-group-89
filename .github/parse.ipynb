{
 "cells": [
  {
   "cell_type": "code",
   "execution_count": 2,
   "metadata": {},
   "outputs": [
    {
     "name": "stdout",
     "output_type": "stream",
     "text": [
      "Defaulting to user installation because normal site-packages is not writeable\n",
      "Requirement already satisfied: pandas in /Users/emilyho/Library/Python/3.8/lib/python/site-packages (1.4.4)\n",
      "Requirement already satisfied: pytz>=2020.1 in /Users/emilyho/Library/Python/3.8/lib/python/site-packages (from pandas) (2022.2.1)\n",
      "Requirement already satisfied: numpy>=1.18.5 in /Users/emilyho/Library/Python/3.8/lib/python/site-packages (from pandas) (1.23.3)\n",
      "Requirement already satisfied: python-dateutil>=2.8.1 in /Users/emilyho/Library/Python/3.8/lib/python/site-packages (from pandas) (2.8.2)\n",
      "Requirement already satisfied: six>=1.5 in /Users/emilyho/Library/Python/3.8/lib/python/site-packages (from python-dateutil>=2.8.1->pandas) (1.16.0)\n",
      "Note: you may need to restart the kernel to use updated packages.\n"
     ]
    }
   ],
   "source": [
    "pip install pandas"
   ]
  },
  {
   "cell_type": "code",
   "execution_count": 3,
   "metadata": {},
   "outputs": [],
   "source": [
    "import pandas as pd"
   ]
  },
  {
   "cell_type": "code",
   "execution_count": 4,
   "metadata": {},
   "outputs": [
    {
     "name": "stdout",
     "output_type": "stream",
     "text": [
      "       Year    Term YearTerm Subject  Number                          Name  \\\n",
      "0      2022  Spring  2022-sp     AAS     100  Intro Asian American Studies   \n",
      "1      2022  Spring  2022-sp     AAS     100  Intro Asian American Studies   \n",
      "2      2022  Spring  2022-sp     AAS     100  Intro Asian American Studies   \n",
      "3      2022  Spring  2022-sp     AAS     100  Intro Asian American Studies   \n",
      "4      2022  Spring  2022-sp     AAS     100  Intro Asian American Studies   \n",
      "...     ...     ...      ...     ...     ...                           ...   \n",
      "11776  2022  Spring  2022-sp    YDSH     102          Beginning Yiddish II   \n",
      "11777  2022  Spring  2022-sp    YDSH     102          Beginning Yiddish II   \n",
      "11778  2022  Spring  2022-sp    YDSH     104       Intermediate Yiddish II   \n",
      "11779  2022  Spring  2022-sp    YDSH     104       Intermediate Yiddish II   \n",
      "11780  2022  Spring  2022-sp    YDSH     320    Responses to the Holocaust   \n",
      "\n",
      "                                             Description Credit Hours  \\\n",
      "0      Interdisciplinary introduction to the basic co...     3 hours.   \n",
      "1      Interdisciplinary introduction to the basic co...     3 hours.   \n",
      "2      Interdisciplinary introduction to the basic co...     3 hours.   \n",
      "3      Interdisciplinary introduction to the basic co...     3 hours.   \n",
      "4      Interdisciplinary introduction to the basic co...     3 hours.   \n",
      "...                                                  ...          ...   \n",
      "11776  Continuation of YDSH 101 focusing on comprehen...     4 hours.   \n",
      "11777  Continuation of YDSH 101 focusing on comprehen...     4 hours.   \n",
      "11778  Continuation of YDSH 103. Prerequisite: YDSH 1...     4 hours.   \n",
      "11779  Continuation of YDSH 103. Prerequisite: YDSH 1...     4 hours.   \n",
      "11780  Same as CWL 320, ENGL 359, JS 320, and REL 320...     3 hours.   \n",
      "\n",
      "                                            Section Info  \\\n",
      "0                                                    NaN   \n",
      "1                                                    NaN   \n",
      "2                                                    NaN   \n",
      "3                                                    NaN   \n",
      "4                                                    NaN   \n",
      "...                                                  ...   \n",
      "11776                                                NaN   \n",
      "11777                                                NaN   \n",
      "11778  Prerequisite: YDSH 103 or equivalent placement...   \n",
      "11779  Prerequisite: YDSH 103 or equivalent placement...   \n",
      "11780  Same as CWL 320, ENGL 359, JS 320, and REL 320...   \n",
      "\n",
      "                                       Degree Attributes  ... Section Status  \\\n",
      "0      Social & Beh Sci - Soc Sci, and Cultural Studi...  ...              A   \n",
      "1      Social & Beh Sci - Soc Sci, and Cultural Studi...  ...              A   \n",
      "2      Social & Beh Sci - Soc Sci, and Cultural Studi...  ...              A   \n",
      "3      Social & Beh Sci - Soc Sci, and Cultural Studi...  ...              A   \n",
      "4      Social & Beh Sci - Soc Sci, and Cultural Studi...  ...              A   \n",
      "...                                                  ...  ...            ...   \n",
      "11776                                                NaN  ...              A   \n",
      "11777                                                NaN  ...              A   \n",
      "11778                                                NaN  ...              A   \n",
      "11779                                                NaN  ...              A   \n",
      "11780  Humanities - Lit & Arts, and Cultural Studies ...  ...              A   \n",
      "\n",
      "       Enrollment Status                   Type Type Code Start Time  \\\n",
      "0                   Open     Lecture-Discussion       LCD   09:00 AM   \n",
      "1                   Open  Discussion/Recitation       DIS   09:00 AM   \n",
      "2                   Open  Discussion/Recitation       DIS   10:00 AM   \n",
      "3                   Open  Discussion/Recitation       DIS   11:00 AM   \n",
      "4                 Closed  Discussion/Recitation       DIS   12:00 PM   \n",
      "...                  ...                    ...       ...        ...   \n",
      "11776               Open                 Online       ONL   11:00 AM   \n",
      "11777               Open                 Online       ONL   12:00 PM   \n",
      "11778               Open                 Online       ONL   03:00 PM   \n",
      "11779               Open                 Online       ONL   03:00 PM   \n",
      "11780             Closed                 Online       ONL   ARRANGED   \n",
      "\n",
      "       End Time Days of Week Room      Building               Instructors  \n",
      "0      10:20 AM           TR  329  Gregory Hall                    Lee, S  \n",
      "1      09:50 AM            F  242   Bevier Hall          Park, D;Zheng, R  \n",
      "2      10:50 AM            F  242   Bevier Hall          Park, D;Zheng, R  \n",
      "3      11:50 AM            F  113  Gregory Hall  Park, D;Rosado-Torres, A  \n",
      "4      12:50 PM            F  113  Gregory Hall  Park, D;Rosado-Torres, A  \n",
      "...         ...          ...  ...           ...                       ...  \n",
      "11776  12:30 PM           MT  NaN           NaN                 Butler, D  \n",
      "11777  12:50 PM            F  NaN           NaN                 Butler, D  \n",
      "11778  03:50 PM            R  NaN           NaN                 Butler, D  \n",
      "11779  04:30 PM           MT  NaN           NaN                 Butler, D  \n",
      "11780       NaN          NaN  NaN           NaN                 Harris, R  \n",
      "\n",
      "[11781 rows x 27 columns]\n"
     ]
    }
   ],
   "source": [
    "df = pd.read_csv('./courses.csv')\n",
    "print(df)"
   ]
  },
  {
   "cell_type": "code",
   "execution_count": 5,
   "metadata": {},
   "outputs": [
    {
     "data": {
      "text/html": [
       "<div>\n",
       "<style scoped>\n",
       "    .dataframe tbody tr th:only-of-type {\n",
       "        vertical-align: middle;\n",
       "    }\n",
       "\n",
       "    .dataframe tbody tr th {\n",
       "        vertical-align: top;\n",
       "    }\n",
       "\n",
       "    .dataframe thead th {\n",
       "        text-align: right;\n",
       "    }\n",
       "</style>\n",
       "<table border=\"1\" class=\"dataframe\">\n",
       "  <thead>\n",
       "    <tr style=\"text-align: right;\">\n",
       "      <th></th>\n",
       "      <th>Year</th>\n",
       "      <th>Term</th>\n",
       "      <th>YearTerm</th>\n",
       "      <th>Subject</th>\n",
       "      <th>Number</th>\n",
       "      <th>Name</th>\n",
       "      <th>Description</th>\n",
       "      <th>Credit Hours</th>\n",
       "      <th>Section Info</th>\n",
       "      <th>Degree Attributes</th>\n",
       "      <th>...</th>\n",
       "      <th>Section Status</th>\n",
       "      <th>Enrollment Status</th>\n",
       "      <th>Type</th>\n",
       "      <th>Type Code</th>\n",
       "      <th>Start Time</th>\n",
       "      <th>End Time</th>\n",
       "      <th>Days of Week</th>\n",
       "      <th>Room</th>\n",
       "      <th>Building</th>\n",
       "      <th>Instructors</th>\n",
       "    </tr>\n",
       "  </thead>\n",
       "  <tbody>\n",
       "    <tr>\n",
       "      <th>0</th>\n",
       "      <td>2022</td>\n",
       "      <td>Spring</td>\n",
       "      <td>2022-sp</td>\n",
       "      <td>AAS</td>\n",
       "      <td>100</td>\n",
       "      <td>Intro Asian American Studies</td>\n",
       "      <td>Interdisciplinary introduction to the basic co...</td>\n",
       "      <td>3 hours.</td>\n",
       "      <td>NaN</td>\n",
       "      <td>Social &amp; Beh Sci - Soc Sci, and Cultural Studi...</td>\n",
       "      <td>...</td>\n",
       "      <td>A</td>\n",
       "      <td>Open</td>\n",
       "      <td>Lecture-Discussion</td>\n",
       "      <td>LCD</td>\n",
       "      <td>09:00 AM</td>\n",
       "      <td>10:20 AM</td>\n",
       "      <td>TR</td>\n",
       "      <td>329</td>\n",
       "      <td>Gregory Hall</td>\n",
       "      <td>Lee, S</td>\n",
       "    </tr>\n",
       "  </tbody>\n",
       "</table>\n",
       "<p>1 rows × 27 columns</p>\n",
       "</div>"
      ],
      "text/plain": [
       "   Year    Term YearTerm Subject  Number                          Name  \\\n",
       "0  2022  Spring  2022-sp     AAS     100  Intro Asian American Studies   \n",
       "\n",
       "                                         Description Credit Hours  \\\n",
       "0  Interdisciplinary introduction to the basic co...     3 hours.   \n",
       "\n",
       "  Section Info                                  Degree Attributes  ...  \\\n",
       "0          NaN  Social & Beh Sci - Soc Sci, and Cultural Studi...  ...   \n",
       "\n",
       "  Section Status  Enrollment Status                Type Type Code Start Time  \\\n",
       "0              A               Open  Lecture-Discussion       LCD   09:00 AM   \n",
       "\n",
       "   End Time Days of Week Room      Building Instructors  \n",
       "0  10:20 AM           TR  329  Gregory Hall      Lee, S  \n",
       "\n",
       "[1 rows x 27 columns]"
      ]
     },
     "execution_count": 5,
     "metadata": {},
     "output_type": "execute_result"
    }
   ],
   "source": [
    "df.head(1)"
   ]
  },
  {
   "cell_type": "code",
   "execution_count": 7,
   "metadata": {},
   "outputs": [
    {
     "name": "stdout",
     "output_type": "stream",
     "text": [
      "['Term', 'YearTerm', 'Subject', 'Number', 'Name', 'Description', 'Credit Hours', 'Section Info', 'Degree Attributes', 'Schedule Information', 'CRN', 'Section', 'Status Code', 'Part of Term', 'Section Title', 'Section Credit Hours', 'Section Status', 'Enrollment Status', 'Type', 'Type Code', 'Start Time', 'End Time', 'Days of Week', 'Room', 'Building', 'Instructors']\n"
     ]
    }
   ],
   "source": [
    "field_names = pd.read_csv('./courses.csv', index_col=0, nrows=0).columns.tolist()\n",
    "print(field_names)"
   ]
  },
  {
   "cell_type": "code",
   "execution_count": 9,
   "metadata": {},
   "outputs": [
    {
     "data": {
      "text/plain": [
       "Index(['Year', 'Term', 'YearTerm', 'Subject', 'Number', 'Name', 'Description',\n",
       "       'Credit Hours', 'Section Info', 'Degree Attributes',\n",
       "       'Schedule Information', 'CRN', 'Section', 'Status Code', 'Part of Term',\n",
       "       'Section Title', 'Section Credit Hours', 'Section Status',\n",
       "       'Enrollment Status', 'Type', 'Type Code', 'Start Time', 'End Time',\n",
       "       'Days of Week', 'Room', 'Building', 'Instructors'],\n",
       "      dtype='object')"
      ]
     },
     "execution_count": 9,
     "metadata": {},
     "output_type": "execute_result"
    }
   ],
   "source": [
    "df.columns"
   ]
  }
 ],
 "metadata": {
  "interpreter": {
   "hash": "31f2aee4e71d21fbe5cf8b01ff0e069b9275f58929596ceb00d14d90e3e16cd6"
  },
  "kernelspec": {
   "display_name": "Python 3.8.9 64-bit",
   "language": "python",
   "name": "python3"
  },
  "language_info": {
   "codemirror_mode": {
    "name": "ipython",
    "version": 3
   },
   "file_extension": ".py",
   "mimetype": "text/x-python",
   "name": "python",
   "nbconvert_exporter": "python",
   "pygments_lexer": "ipython3",
   "version": "3.8.9"
  },
  "orig_nbformat": 4
 },
 "nbformat": 4,
 "nbformat_minor": 2
}
